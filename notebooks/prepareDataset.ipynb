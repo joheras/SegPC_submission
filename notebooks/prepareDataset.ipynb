{
 "cells": [
  {
   "cell_type": "code",
   "execution_count": null,
   "metadata": {},
   "outputs": [],
   "source": [
    "import cv2\n",
    "from imutils import paths\n",
    "import numpy as np\n",
    "import os"
   ]
  },
  {
   "cell_type": "code",
   "execution_count": null,
   "metadata": {},
   "outputs": [],
   "source": [
    "dict = {}\n",
    "# Change gt with the folder containing the ground truth images\n",
    "for label in paths.list_images('gt'):\n",
    "    name = label[label.rfind('/')+1:label.rfind('_')]\n",
    "    if name in dict.keys():\n",
    "        dict[name].append(label)\n",
    "    else:\n",
    "        dict[name]=[label]"
   ]
  },
  {
   "cell_type": "markdown",
   "metadata": {},
   "source": [
    "Semantic segmentation"
   ]
  },
  {
   "cell_type": "code",
   "execution_count": null,
   "metadata": {},
   "outputs": [],
   "source": [
    "os.makedirs('labelsSemanticSegmentation')\n",
    "for key in dict.keys():\n",
    "    im = cv2.imread(dict[key][0])\n",
    "    for i,a in enumerate(dict[key][1:]):\n",
    "        im1= cv2.imread(a)\n",
    "        im = np.maximum(im,im1)\n",
    "    cv2.imwrite('labelsSemanticSegmentation/'+key+'.bmp',im)"
   ]
  },
  {
   "cell_type": "markdown",
   "metadata": {},
   "source": [
    "Instance Segmentation"
   ]
  },
  {
   "cell_type": "code",
   "execution_count": null,
   "metadata": {},
   "outputs": [],
   "source": [
    "os.makedirs('labelsInstanceSegmentation')\n",
    "for key in dict.keys():\n",
    "    img = cv2.imread(dict[key][0])\n",
    "    nozero=np.where((img[:,:,0]>0) & (img[:,:,1]>0) & (img[:,:,2]>0))\n",
    "    img[nozero]=(1,1,1)\n",
    "    for i,a in enumerate(dict[key][1:]):\n",
    "        im1= cv2.imread(a)\n",
    "        nozero=np.where((im1[:,:,0]>0) & (im1[:,:,1]>0) & (im1[:,:,2]>0))\n",
    "        img[nozero]=(i+2,i+2,i+2)\n",
    "    cv2.imwrite('labelsInstanceSegmentation/'+key+'.bmp',img)\n",
    "\n",
    "\n"
   ]
  }
 ],
 "metadata": {
  "kernelspec": {
   "display_name": "Python 3",
   "language": "python",
   "name": "python3"
  },
  "language_info": {
   "codemirror_mode": {
    "name": "ipython",
    "version": 3
   },
   "file_extension": ".py",
   "mimetype": "text/x-python",
   "name": "python",
   "nbconvert_exporter": "python",
   "pygments_lexer": "ipython3",
   "version": "3.6.7"
  }
 },
 "nbformat": 4,
 "nbformat_minor": 2
}
